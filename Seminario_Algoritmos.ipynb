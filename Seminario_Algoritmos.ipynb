{
  "cells": [
    {
      "cell_type": "markdown",
      "metadata": {
        "id": "hVbXYX-RfPWh"
      },
      "source": [
        "# Algoritmos de optimización - Seminario<br>\n",
        "Nombre y Apellidos: Victor Alfonso Beltran Gamboa  <br>\n",
        "Url: https://github.com/.../03MAIR---Algoritmos-de-Optimizacion---2019/tree/master/SEMINARIO<br>\n",
        "Problema:\n",
        "\n",
        ">3. Combinar cifras y operaciones\n",
        "\n",
        "#### Descripción del problema:\n",
        "\n",
        "El problema consiste en analizar el siguiente problema y diseñar un algoritmo que lo resuelva:\n",
        "- Disponemos de las 9 cifras del 1 al 9 (excluimos el cero) y de los 4 signos básicos de las operaciones fundamentales: suma(+), resta( resta(--), multiplicación(*) y division (/)\n",
        "- Debemos combinarlos alternativamente sin repetir ninguno de ellos para obtener una cantidad dada. Un ejemplo sería para obtener el 4: 4+2+6/3*1 = 4\n",
        "\n",
        "\n",
        "Debe analizarse el problema para encontrar todos los valores enteros posibles planteando las siguientes cuestiones:\n",
        "- ¿Qué valor máximo y mínimo se pueden obtener según las condiciones del problema?\n",
        "- ¿Es posible encontrar todos los valores enteros posibles entre dicho mínimo y máximo?\n",
        "\n",
        "\n",
        "\n",
        "Respuesta:                                       "
      ]
    },
    {
      "cell_type": "markdown",
      "metadata": {},
      "source": [
        "*Se construye la funcion ´cif_oper_analisis´ que contiene un algoritmo el cual recibe una lista de cifras (en este caso dígitos del 1 al 9).*\\\n",
        "*El algoritmo internamente tiene una función que realiza permutaciones de una lista entregada y un valor r dado.*\\\n",
        "*Esta función se usa tanto para hacer permutaciones de las cifras, cómo para hacer permutaciones de las 4 operaciones fundamentales.*\n",
        "\n",
        "*Posteriormente se combinan las cifras y las operaciones de manera iterativa; se van realizando las operaciones con los respectivos dígitos y las respectivas operaciones*\\\n",
        "*en cada iteración. En este punto se calculan todas las posibles operaciones entre todos los dígitos (sin repetir digitos) y las operaciones, para directamente guardar los*\\\n",
        "*cálculos en la lista ´resultado´, siempre y cuando se cumpla la condición de que el número resultado de cada operación es entero.*\n",
        "\n",
        "*Sobre esta lista y de cara a analizar el problema desde el punto de vista de las preguntas dadas, se unifica la lista en un conjunto y posteriormente se guarda en una lista* \\\n",
        "*para determinar los resultado únicos para cada número entero y con ello se calcula el máximo y mínimo de dicho resultado, donde se tienen los valores -69 y 77 como valores* \\\n",
        "*mínimo y máximo respectivamente.*\n",
        "\n",
        "*Para determinar si es posible encontrar todos los valores enteros posibles entre -69 y 77, se extrae la lista de enteros calculados en el algoritmo y se verifica que se tenga*\\\n",
        "*la cantidad de números en dicho rango (debido a que son únicos pues se construyó un conjunto), lo cual nos ayuda a concluir que si se obtienen todos los números enteros entre*\\\n",
        "*el mínimo y máximo calculados.*"
      ]
    },
    {
      "cell_type": "code",
      "execution_count": null,
      "metadata": {},
      "outputs": [],
      "source": [
        "def cif_oper_analisis(cifras):\n",
        "\n",
        "    def generar_permutaciones(lista_numeros, r, permutacion_actual=[]):\n",
        "        if len(permutacion_actual) == r:\n",
        "            return [permutacion_actual[:]]\n",
        "\n",
        "        permutaciones = []\n",
        "        for num in lista_numeros:\n",
        "            if num not in permutacion_actual:\n",
        "                permutacion_actual.append(num)\n",
        "                permutaciones.extend(generar_permutaciones(lista_numeros, r, permutacion_actual))\n",
        "                permutacion_actual.pop()\n",
        "\n",
        "        return permutaciones\n",
        "\n",
        "    \n",
        "    cifras_permutaciones = generar_permutaciones(cifras, 5)\n",
        "    operaciones = ['+','-','*','/']\n",
        "    operaciones_perm = generar_permutaciones(operaciones, 4)\n",
        "\n",
        "    listadotemp = []\n",
        "\n",
        "    for i in cifras_permutaciones:\n",
        "        for j in operaciones_perm:\n",
        "            ltemp = [f'{i[0]}{j[0]}{i[1]}{j[1]}{i[2]}{j[2]}{i[3]}{j[3]}{i[4]}',\n",
        "                    eval(f'{i[0]}{j[0]}{i[1]}{j[1]}{i[2]}{j[2]}{i[3]}{j[3]}{i[4]}')]\n",
        "            listadotemp.append(ltemp)\n",
        "    \n",
        "    resultado = []\n",
        "    for i in listadotemp:\n",
        "        if i[1] == int(i[1]):\n",
        "            resultado.append(i[1])\n",
        "\n",
        "    listadito = list(set(resultado))\n",
        "    minimo = min(set(resultado))\n",
        "    maximo = max(set(resultado))\n",
        "    listadito.sort()\n",
        "    \n",
        "    return minimo, maximo, listadito"
      ]
    },
    {
      "cell_type": "code",
      "execution_count": null,
      "metadata": {},
      "outputs": [
        {
          "name": "stdout",
          "output_type": "stream",
          "text": [
            "Minimo: -69.0\n",
            "Minimo: 77.0\n"
          ]
        }
      ],
      "source": [
        "analisis  = cif_oper_analisis(lista_cifras)\n",
        "print('Minimo:', analisis[0])\n",
        "print('Minimo:', analisis[1])"
      ]
    },
    {
      "cell_type": "code",
      "execution_count": null,
      "metadata": {},
      "outputs": [],
      "source": [
        "enteros_generados = analisis[2]"
      ]
    },
    {
      "cell_type": "code",
      "execution_count": null,
      "metadata": {},
      "outputs": [
        {
          "data": {
            "text/plain": [
              "True"
            ]
          },
          "metadata": {},
          "output_type": "display_data"
        }
      ],
      "source": [
        "comprobacion = []\n",
        "for i in range(-69,78):\n",
        "    if i in enteros_generados:\n",
        "        comprobacion.append(1)\n",
        "\n",
        "\n",
        "sum(comprobacion) == 70+77"
      ]
    },
    {
      "cell_type": "markdown",
      "metadata": {
        "id": "3_-exlrTgLd-"
      },
      "source": [
        "(*)¿Cuantas posibilidades hay sin tener en cuenta las restricciones?<br>\n",
        "\n",
        "\n",
        "\n",
        "¿Cuantas posibilidades hay teniendo en cuenta todas las restricciones.\n",
        "\n",
        "\n"
      ]
    },
    {
      "cell_type": "markdown",
      "metadata": {
        "id": "WfCUqJyKhPcw"
      },
      "source": [
        "Respuesta"
      ]
    },
    {
      "cell_type": "markdown",
      "metadata": {
        "id": "iq6Fe32MgpDX"
      },
      "source": [
        "*La restricción es que los dígitos y las operaciones no se pueden repetir, por lo cual sin tener en cuenta dicha restricción, se tendría:* \\\n",
        "*(9x9x9x9x9) x (4x4x4x4) = 1.679.616 posibilidades del resultado de combinar los 9 digitos y las 4 operaciones fundamentales.* \\\n",
        "\n",
        "*Por otro lado Teniendo en cuenta las restricciones, hay (9x8x7x6x5) x (24) = 362.880 posibilidades*"
      ]
    },
    {
      "cell_type": "markdown",
      "metadata": {
        "id": "dzynfVJahHoY"
      },
      "source": [
        "Modelo para el espacio de soluciones<br>\n",
        "(*) ¿Cual es la estructura de datos que mejor se adapta al problema? Argumentalo.(Es posible que hayas elegido una al principio y veas la necesidad de cambiar, argumentalo)\n"
      ]
    },
    {
      "cell_type": "markdown",
      "metadata": {
        "id": "xFIJrOwKi2Ti"
      },
      "source": [
        "Respuesta"
      ]
    },
    {
      "cell_type": "markdown",
      "metadata": {
        "id": "38c-7-ejhJmA"
      },
      "source": [
        "*La estructura que considero más adecuada es de un lista, ya que se deben almacenar los 9 dígitos y las 4 operaciones fundamentales*\\\n",
        "*lo cual no es muy complejo y se puede manipular de manera sencilla.*"
      ]
    },
    {
      "cell_type": "markdown",
      "metadata": {
        "id": "7Z9U2W7bi-XS"
      },
      "source": [
        "Según el modelo para el espacio de soluciones<br>\n",
        "(*)¿Cual es la función objetivo?\n",
        "\n",
        "(*)¿Es un problema de maximización o minimización?"
      ]
    },
    {
      "cell_type": "markdown",
      "metadata": {
        "id": "hBalWLM7j1_d"
      },
      "source": [
        "Respuesta"
      ]
    },
    {
      "cell_type": "markdown",
      "metadata": {
        "id": "pDA-rg3Gj5Lz"
      },
      "source": [
        "*No hay una funcion objetivo, debido a que a pesar de que se comparan todas las soluciones no se busca una solución óptima entre todas, por lo tanto no es un problema de maximizacion o minimización*"
      ]
    },
    {
      "cell_type": "markdown",
      "metadata": {
        "id": "rlnTYgY1j6I2"
      },
      "source": [
        "Diseña un algoritmo para resolver el problema por fuerza bruta"
      ]
    },
    {
      "cell_type": "markdown",
      "metadata": {
        "id": "70rDgxYXkC8r"
      },
      "source": [
        "Respuesta:\n",
        "\n",
        "*El algoritmo está basado en el que se usó para analizar el problema, con la diferencia de que solicita la cantidada dada y la lista* \\\n",
        "*de cifras como entrada. Adicionalmente, retorna la primera combinación de dígitos y operaciones que satisface la condición se obtener* \\\n",
        "*la cantidad solicitada. Es de fuerza bruta porque genera todas las posibles soluciones al problema, a pesar de que solo retorna una (la primera)*"
      ]
    },
    {
      "cell_type": "code",
      "execution_count": null,
      "metadata": {
        "id": "CJb5sQ0qkENy"
      },
      "outputs": [],
      "source": [
        "\n",
        "def cif_oper_bruta(cantidad_dada, cifras):\n",
        "\n",
        "    def generar_permutaciones(lista_numeros, r, permutacion_actual=[]):\n",
        "        if len(permutacion_actual) == r:\n",
        "            return [permutacion_actual[:]]\n",
        "\n",
        "        permutaciones = []\n",
        "        for num in lista_numeros:\n",
        "            if num not in permutacion_actual:\n",
        "                permutacion_actual.append(num)\n",
        "                permutaciones.extend(generar_permutaciones(lista_numeros, r, permutacion_actual))\n",
        "                permutacion_actual.pop()\n",
        "\n",
        "        return permutaciones\n",
        "\n",
        "    \n",
        "    cifras_permutaciones = generar_permutaciones(cifras, 5)\n",
        "    operaciones = ['+','-','*','/']\n",
        "    operaciones_perm = generar_permutaciones(operaciones, 4)\n",
        "\n",
        "    listadotemp = []\n",
        "\n",
        "    for i in cifras_permutaciones:\n",
        "        for j in operaciones_perm:\n",
        "            ltemp = [f'{i[0]}{j[0]}{i[1]}{j[1]}{i[2]}{j[2]}{i[3]}{j[3]}{i[4]}',\n",
        "                    eval(f'{i[0]}{j[0]}{i[1]}{j[1]}{i[2]}{j[2]}{i[3]}{j[3]}{i[4]}')]\n",
        "            listadotemp.append(ltemp)\n",
        "    \n",
        "    resultado = []\n",
        "    for i in listadotemp:\n",
        "        if i[1] == cantidad_dada:\n",
        "            resultado.append(i)\n",
        "            break\n",
        "    \n",
        "    return resultado"
      ]
    },
    {
      "cell_type": "markdown",
      "metadata": {
        "id": "tgrnsC2nkFa8"
      },
      "source": [
        "Calcula la complejidad del algoritmo por fuerza bruta"
      ]
    },
    {
      "cell_type": "markdown",
      "metadata": {
        "id": "9eUd3xwckP68"
      },
      "source": [
        "Respuesta"
      ]
    },
    {
      "cell_type": "markdown",
      "metadata": {
        "id": "rvZWwL-ckRST"
      },
      "source": [
        "*La parte significativa en términos de complejidad es la generación de todas las permutaciones tanto en cifras como en operaciones, la cual es O(9x8x7x6 * 4!) = O(362880)*"
      ]
    },
    {
      "cell_type": "markdown",
      "metadata": {
        "id": "txbrmLmskReM"
      },
      "source": [
        "(*)Diseña un algoritmo que mejore la complejidad del algoritmo por fuerza bruta. Argumenta porque crees que mejora el algoritmo por fuerza bruta"
      ]
    },
    {
      "cell_type": "markdown",
      "metadata": {
        "id": "hLrVwt5QkZPD"
      },
      "source": [
        "Respuesta:\n",
        "\n",
        "*EL algoritmo que se muuestra a continuación mejora el cálculo del algoritmo por fuerza bruta, debido a que no combina el total de cifras con el total de operaciones en todos los casos,*\\\n",
        "*retornando el primer valor encontrado según la cantidad dada, es decir, una vez encuentra la combinación que satisface la cantidad dada, no continua combinando las operaciones y las cifras.*\\\n",
        "*Adicionalmente, la mejora se ve reflejada en el tiempo de ejecución del algortimo, el cual es mejor que el de fuerza bruta. en resumen, mejorar la complejidad en el mejor de los casos.*"
      ]
    },
    {
      "cell_type": "code",
      "execution_count": null,
      "metadata": {
        "id": "m1eyM21Vkabg"
      },
      "outputs": [],
      "source": [
        "def cifoper(cantidad_dada, cifras):\n",
        "\n",
        "    def generar_permutaciones(lista_numeros, r, permutacion_actual=[]):\n",
        "        if len(permutacion_actual) == r:\n",
        "            return [permutacion_actual[:]]\n",
        "\n",
        "        permutaciones = []\n",
        "        for num in lista_numeros:\n",
        "            if num not in permutacion_actual:\n",
        "                permutacion_actual.append(num)\n",
        "                permutaciones.extend(generar_permutaciones(lista_numeros, r, permutacion_actual))\n",
        "                permutacion_actual.pop()\n",
        "\n",
        "        return permutaciones\n",
        "\n",
        "    \n",
        "    cifras_permutaciones = generar_permutaciones(cifras, 5)\n",
        "    operaciones = ['+','-','*','/']\n",
        "    operaciones_perm = generar_permutaciones(operaciones, 4)\n",
        "\n",
        "    listadotemp = []\n",
        "\n",
        "    for i in cifras_permutaciones:\n",
        "        for j in operaciones_perm:\n",
        "            if eval(f'{i[0]}{j[0]}{i[1]}{j[1]}{i[2]}{j[2]}{i[3]}{j[3]}{i[4]}') == cantidad_dada:\n",
        "                ltemp = [f'{i[0]}{j[0]}{i[1]}{j[1]}{i[2]}{j[2]}{i[3]}{j[3]}{i[4]}',\n",
        "                        eval(f'{i[0]}{j[0]}{i[1]}{j[1]}{i[2]}{j[2]}{i[3]}{j[3]}{i[4]}')]\n",
        "                break\n",
        "   \n",
        "    return ltemp"
      ]
    },
    {
      "cell_type": "markdown",
      "metadata": {
        "id": "eGDB4K6uk1iN"
      },
      "source": [
        "(*)Calcula la complejidad del algoritmo"
      ]
    },
    {
      "cell_type": "markdown",
      "metadata": {
        "id": "NhpTh_BPk1ms"
      },
      "source": [
        "Respuesta"
      ]
    },
    {
      "cell_type": "markdown",
      "metadata": {
        "id": "nREzhkStlCq8"
      },
      "source": [
        "*De nuevo, la parte significativa en términos de complejidad es la generación de todas las permutaciones tanto en cifras como en operaciones, la cual es O(9x8x7x6 * 4!) = O(362880). La*\\ \n",
        "principal diferencia es que en el mejor caso, el algoritmo es mas eficiente para encontrar la cantidad dada.*"
      ]
    },
    {
      "cell_type": "markdown",
      "metadata": {
        "id": "3M6QjTsSkmYe"
      },
      "source": [
        "Según el problema (y tenga sentido), diseña un juego de datos de entrada aleatorios"
      ]
    },
    {
      "cell_type": "markdown",
      "metadata": {
        "id": "Jc3_OlyNkvjZ"
      },
      "source": [
        "Respuesta"
      ]
    },
    {
      "cell_type": "markdown",
      "metadata": {
        "id": "sJ-N2etjkyWc"
      },
      "source": [
        "*En este caso no tiene sentido generar datos de entrada aleatorios.*"
      ]
    },
    {
      "cell_type": "markdown",
      "metadata": {
        "id": "zy5ZROmjlGo1"
      },
      "source": [
        "Aplica el algoritmo al juego de datos generado"
      ]
    },
    {
      "cell_type": "markdown",
      "metadata": {
        "id": "_Cmj-PVylMsa"
      },
      "source": [
        "Respuesta"
      ]
    },
    {
      "cell_type": "markdown",
      "metadata": {
        "id": "Jkx8GeiYlUz1"
      },
      "source": [
        "*En este caso no tiene sentido generar datos de entrada aleatorios.*"
      ]
    },
    {
      "cell_type": "markdown",
      "metadata": {
        "id": "eTFWUJQrtGcv"
      },
      "source": [
        "Enumera las referencias que has utilizado(si ha sido necesario) para llevar a cabo el trabajo"
      ]
    },
    {
      "cell_type": "markdown",
      "metadata": {
        "id": "YKQ_mRBttWsP"
      },
      "source": [
        "Respuesta:\n",
        "*No he usado referencias adicionales al contenido de la asigantira.*"
      ]
    },
    {
      "cell_type": "markdown",
      "metadata": {
        "id": "kAkDPUyRtYyH"
      },
      "source": [
        "Describe brevemente las lineas de como crees que es posible avanzar en el estudio del problema. Ten en cuenta incluso posibles variaciones del problema y/o variaciones al alza del tamaño"
      ]
    },
    {
      "cell_type": "markdown",
      "metadata": {
        "id": "IE0uZmo-tZu-"
      },
      "source": [
        "Respuesta:\n",
        "*El problema tendría aún un margen amplio de mejora, ya que por ejemplo si se incrementa el número de cifras (por ejemplo de 1 a 20), el algoritmo, debido a su complejidad, tomaría*\\\n",
        "*gran cantidad de tiempo en retornar resultado, por lo cual sería poco eficiente en términos de tiempo. Por lo anterior se podría pensar incluso en explorar técnicas metaheurísticas para mejorar la eficiencia del algoritmo.*"
      ]
    },
    {
      "cell_type": "markdown",
      "metadata": {},
      "source": []
    }
  ],
  "metadata": {
    "colab": {
      "provenance": []
    },
    "kernelspec": {
      "display_name": "Python 3",
      "name": "python3"
    }
  },
  "nbformat": 4,
  "nbformat_minor": 0
}
